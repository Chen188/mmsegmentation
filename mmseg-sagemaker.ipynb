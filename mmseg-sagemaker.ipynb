{
 "cells": [
  {
   "cell_type": "code",
   "execution_count": null,
   "id": "ab8c1d22",
   "metadata": {},
   "outputs": [],
   "source": [
    "import numpy as np\n",
    "import boto3\n",
    "import sagemaker\n",
    "from sagemaker.pytorch import PyTorch\n",
    "\n",
    "account_id = boto3.client('sts').get_caller_identity().get('Account')\n",
    "region = boto3.Session().region_name\n",
    "\n",
    "role = sagemaker.get_execution_role()\n",
    "sm_session = sagemaker.Session()\n",
    "bucket_name = sm_session.default_bucket()"
   ]
  },
  {
   "cell_type": "code",
   "execution_count": null,
   "id": "563f4682",
   "metadata": {},
   "outputs": [],
   "source": [
    "# choose a repo name you like\n",
    "ecr_repository = 'mmseg-train'\n",
    "\n",
    "# 登录ECR服务\n",
    "!aws ecr get-login-password --region {region} | docker login --username AWS --password-stdin {account_id}.dkr.ecr.{region}.amazonaws.com.cn\n",
    "# !aws ecr get-login-password --region {region} | docker login --username AWS --password-stdin 727897471807.dkr.ecr.{region}.amazonaws.com.cn"
   ]
  },
  {
   "cell_type": "code",
   "execution_count": null,
   "id": "46020892",
   "metadata": {},
   "outputs": [],
   "source": [
    "!aws ecr create-repository --repository-name $ecr_repository"
   ]
  },
  {
   "cell_type": "code",
   "execution_count": null,
   "id": "fb8c656a",
   "metadata": {
    "scrolled": true
   },
   "outputs": [],
   "source": [
    "# 构建训练镜像并推送到ECR, China Region.\n",
    "torch_version = '1.10.0'\n",
    "tag = ':pt-' + torch_version\n",
    "repository_uri = '{}.dkr.ecr.{}.amazonaws.com.cn/{}'.format(account_id, region, ecr_repository + tag)\n",
    "print('repository_uri: ', repository_uri)\n",
    "\n",
    "!docker build -t \"$ecr_repository$tag\" . -f Dockerfile-ubuntu.gpu --build-arg REGION_NAME=$region --build-arg TORCH_VERSION=$torch_version\n",
    "!docker tag {ecr_repository + tag} $repository_uri\n",
    "\n",
    "# !docker push $repository_uri"
   ]
  },
  {
   "cell_type": "code",
   "execution_count": null,
   "id": "b2699479",
   "metadata": {},
   "outputs": [],
   "source": [
    "pytorch_estimator = PyTorch(entry_point = 'tools/sm-train.sh',\n",
    "                            source_dir = '.',\n",
    "                            instance_type='local_gpu',\n",
    "                            instance_count=1,\n",
    "                            # framework_version='1.10.0',\n",
    "                            # py_version='py38',\n",
    "                            image_uri = repository_uri,\n",
    "                            role = role,\n",
    "                            environment = {\n",
    "                                'MM_NUM_CLASSES': 2,\n",
    "                                'MM_LOG_LEVEL': 'INFO'\n",
    "                            },\n",
    "                            hyperparameters = {\n",
    "                                'config': 'configs/fcn/fcn_hr48_320x480_80k_0.01_new_label.py',\n",
    "                            })\n",
    "\n",
    "### config 文件会自动读取环境变量 SM_CHANNEL_DATA_ROOT \n",
    "# pytorch_estimator.fit({'data_root': 'file:///home/ec2-user/SageMaker/data/train'})\n",
    "pytorch_estimator.fit({'data_root': 's3://bucketname/path/to/data'})"
   ]
  },
  {
   "cell_type": "code",
   "execution_count": null,
   "id": "5ab5ff0d",
   "metadata": {},
   "outputs": [],
   "source": []
  }
 ],
 "metadata": {
  "kernelspec": {
   "display_name": "conda_pytorch_p38",
   "language": "python",
   "name": "conda_pytorch_p38"
  },
  "language_info": {
   "codemirror_mode": {
    "name": "ipython",
    "version": 3
   },
   "file_extension": ".py",
   "mimetype": "text/x-python",
   "name": "python",
   "nbconvert_exporter": "python",
   "pygments_lexer": "ipython3",
   "version": "3.8.12"
  }
 },
 "nbformat": 4,
 "nbformat_minor": 5
}
